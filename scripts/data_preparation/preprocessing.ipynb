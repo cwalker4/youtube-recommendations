{
 "cells": [
  {
   "cell_type": "markdown",
   "metadata": {},
   "source": [
    "# Preprocessing\n",
    "\n",
    "This notebook does some pre-processing of the unstructured data gathered by the scraper."
   ]
  },
  {
   "cell_type": "code",
   "execution_count": null,
   "metadata": {},
   "outputs": [],
   "source": [
    "import json\n",
    "import re\n",
    "import os\n",
    "from datetime import date\n",
    "import time\n",
    "import sys\n",
    "\n",
    "import pandas as pd\n",
    "import numpy as np\n",
    "import networkx as nx\n",
    "\n",
    "import sqlite3"
   ]
  },
  {
   "cell_type": "code",
   "execution_count": null,
   "metadata": {},
   "outputs": [],
   "source": [
    "# connect to the database\n",
    "db_path = '../../data/crawl.sqlite'\n",
    "conn = sqlite3.connect(db_path)\n",
    "\n",
    "outdir = '../../data/derived_data/'"
   ]
  },
  {
   "cell_type": "markdown",
   "metadata": {},
   "source": [
    "### Make an adjacency list \n",
    "\n",
    "Combine the BFS tree searches into one big ol' adjacency list"
   ]
  },
  {
   "cell_type": "code",
   "execution_count": null,
   "metadata": {},
   "outputs": [],
   "source": [
    "# get video_info\n",
    "sql = \"SELECT * FROM recommendations\"\n",
    "recs_df = pd.read_sql_query(sql, conn)\n",
    "\n",
    "# aggregate all the out-edges for each video, drop videos that have no out-edges\n",
    "edges = (recs_df[['video_id', 'recommendation']]\n",
    "       .dropna()\n",
    "       .groupby('video_id')\n",
    "       .agg(lambda x: list(x))\n",
    "       .query('recommendation != 0')\n",
    "       .reset_index())\n",
    "\n",
    "# write as a text file\n",
    "f = open(os.path.join(outdir, 'video_adjacency.txt'), 'w')\n",
    "for parent, children in zip(edges.video_id.values, edges.recommendation.values):\n",
    "    if not children:\n",
    "        continue\n",
    "    line = '{} {}'.format(parent, \" \".join(children))\n",
    "    f.write(line + \"\\n\")\n",
    "f.close()"
   ]
  },
  {
   "cell_type": "markdown",
   "metadata": {},
   "source": [
    "### Make a channel adjacency list\n",
    "\n",
    "Since our classification of channels is based on _channels_, not _videos_ it makes more sense to analyze the _channel_ recommendation graph when it comes to political leaning."
   ]
  },
  {
   "cell_type": "code",
   "execution_count": null,
   "metadata": {},
   "outputs": [],
   "source": [
    "sql = '''\n",
    "SELECT v1.channel_id AS parent_channel, v2.channel_id as child_channel\n",
    "FROM recommendations r\n",
    "LEFT JOIN videos v1\n",
    "  ON r.video_id = v1.video_id\n",
    "LEFT JOIN videos v2\n",
    "  ON r.recommendation = v2.video_id\n",
    "'''\n",
    "\n",
    "channel_recs = pd.read_sql_query(sql, conn)\n",
    "\n",
    "edges = (channel_recs\n",
    "        .dropna()\n",
    "        .groupby('parent_channel')\n",
    "        .agg(lambda x: list(x))\n",
    "        .reset_index())\n",
    "\n",
    "f = open(os.path.join(outdir, 'channel_adjacency.txt'), 'w')\n",
    "for parent, children in zip(edges.parent_channel.values, edges.child_channel.values):\n",
    "    if not children:\n",
    "        continue\n",
    "    line = '{} {}'.format(parent, \" \".join(children))\n",
    "    f.write(line + \"\\n\")\n",
    "f.close()"
   ]
  },
  {
   "cell_type": "markdown",
   "metadata": {},
   "source": [
    "### Pageranks"
   ]
  },
  {
   "cell_type": "code",
   "execution_count": null,
   "metadata": {},
   "outputs": [],
   "source": [
    "# import the graph from adjacency list\n",
    "G = nx.read_adjlist(create_using=nx.DiGraph(), \n",
    "                    path=os.path.join(outdir, \"video_adjacency.txt\"))\n",
    "\n",
    "# load pageranks into a dataframe\n",
    "pr = nx.pagerank(G)\n",
    "pr_df = pd.DataFrame.from_dict(pr, orient=\"index\").reset_index()\\\n",
    "                 .rename(index=str, columns={'index': 'video_id', 0: 'pagerank'})\n",
    "    \n",
    "pr_df.to_csv(os.path.join(outdir, 'video_pageranks.csv'), index=False)"
   ]
  }
 ],
 "metadata": {
  "kernelspec": {
   "display_name": "Python 3",
   "language": "python",
   "name": "python3"
  },
  "language_info": {
   "codemirror_mode": {
    "name": "ipython",
    "version": 3
   },
   "file_extension": ".py",
   "mimetype": "text/x-python",
   "name": "python",
   "nbconvert_exporter": "python",
   "pygments_lexer": "ipython3",
   "version": "3.6.4"
  }
 },
 "nbformat": 4,
 "nbformat_minor": 2
}
