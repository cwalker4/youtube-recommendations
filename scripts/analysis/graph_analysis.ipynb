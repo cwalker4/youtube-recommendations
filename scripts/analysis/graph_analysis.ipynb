{
 "cells": [
  {
   "cell_type": "markdown",
   "metadata": {},
   "source": [
    "# Graph Analysis\n",
    "\n",
    "This notebook analyzes the recommendation graph. Emphasis on assortativity."
   ]
  },
  {
   "cell_type": "code",
   "execution_count": 1,
   "metadata": {},
   "outputs": [],
   "source": [
    "import os\n",
    "import pandas\n",
    "import json\n",
    "import numpy as np\n",
    "import pandas as pd\n",
    "\n",
    "import networkx as nx\n",
    "from matplotlib import pyplot as plt"
   ]
  },
  {
   "cell_type": "markdown",
   "metadata": {},
   "source": [
    "### Data Import and Preparation"
   ]
  },
  {
   "cell_type": "code",
   "execution_count": 3,
   "metadata": {},
   "outputs": [],
   "source": [
    "# import the graph from adjacency list\n",
    "G = nx.read_adjlist(create_using=nx.DiGraph(), \n",
    "                    path=\"../../data/derived_data/analysis_redo/adjacency_list.txt\")\n",
    "\n",
    "# wrap in features\n",
    "with open('../../data/scrape_results_redo/video_info.json', 'r') as f:\n",
    "    video_info = json.load(f)"
   ]
  },
  {
   "cell_type": "code",
   "execution_count": 4,
   "metadata": {},
   "outputs": [],
   "source": [
    "# make a category_name <-> id mapping for easier category handling\n",
    "category_df = pd.read_csv('../../data/derived_data/category_crosswalk.csv')\n",
    "category_list = category_df.category_id.values\n",
    "\n",
    "categories = set(category_list)\n",
    "cat_mapping = {}\n",
    "for ix, category_id in enumerate(categories):\n",
    "    cat_mapping[category_id] = ix"
   ]
  },
  {
   "cell_type": "code",
   "execution_count": 8,
   "metadata": {},
   "outputs": [],
   "source": [
    "# Create node attributes by filling dictionaries with video_id and info\n",
    "category = {}\n",
    "views = {}\n",
    "lr = {}\n",
    "postdate = {}\n",
    "channel = {}\n",
    "for video_id in video_info:\n",
    "    info = video_info.get(video_id, {})\n",
    "    try:\n",
    "        like_ratio = int(info['likes']) / (int(info['likes']) + int(info['dislikes']))\n",
    "    except ZeroDivisionError:\n",
    "        like_ratio = 0.5\n",
    "    \n",
    "    channel[video_id] = info['channel']\n",
    "    category[video_id] = cat_mapping[int(info['category'])]\n",
    "    views[video_id] = int(info['views'])\n",
    "    lr[video_id] = float(like_ratio)\n",
    "    postdate[video_id] =  info['postdate']\n",
    "    \n",
    "# do the same for channel/video bias\n",
    "channel_classification = pd.read_csv('../../data/derived_data/analysis_redo/channel_classification.csv')\n",
    "video_info_df = pd.DataFrame.from_dict(video_info, orient='index').reset_index()\n",
    "video_info_df.rename(index=str, columns={\"index\": \"video_id\"}, inplace=True)\n",
    "video_info_df = video_info_df[['video_id', 'channel']]\n",
    "video_info_df['channel'] = video_info_df.channel.apply(str.lower)\n",
    "video_info_df = video_info_df.merge(channel_classification, on='channel', how='left')\\\n",
    "                .dropna(axis=0, subset=['leaning'])\n",
    "bias_dict = video_info_df[['video_id', 'leaning']].set_index('video_id').to_dict(orient='index')\n",
    "\n",
    "# make dictionary of bias\n",
    "bias = {}\n",
    "for video_id in bias_dict:\n",
    "    bias[video_id] = bias_dict[video_id]['leaning']\n",
    "    \n",
    "nx.set_node_attributes(G, name='leaning', values=bias)\n",
    "nx.set_node_attributes(G, name='category', values=category)\n",
    "nx.set_node_attributes(G, name='views', values=views)\n",
    "nx.set_node_attributes(G, name='like_ratio', values=lr)\n",
    "nx.set_node_attributes(G, name='postdate', values=postdate)\n",
    "nx.set_node_attributes(G, name='channel', values=channel)"
   ]
  },
  {
   "cell_type": "markdown",
   "metadata": {},
   "source": [
    "### Assortativity"
   ]
  },
  {
   "cell_type": "code",
   "execution_count": 9,
   "metadata": {},
   "outputs": [
    {
     "name": "stdout",
     "output_type": "stream",
     "text": [
      "0.6212606432182186\n",
      "0.5314986471220333\n",
      "0.7483356709878127\n"
     ]
    }
   ],
   "source": [
    "# assortativity\n",
    "print(nx.attribute_assortativity_coefficient(G, 'category'))\n",
    "print(nx.attribute_assortativity_coefficient(G, 'channel'))\n",
    "print(nx.attribute_assortativity_coefficient(G, 'leaning'))\n",
    "#print(nx.numeric_assortativity_coefficient(G, attribute='views'))\n",
    "#print(nx.numeric_assortativity_coefficient(G, attribute='like_ratio'))"
   ]
  },
  {
   "cell_type": "code",
   "execution_count": 10,
   "metadata": {},
   "outputs": [],
   "source": [
    "# mix_matrix[i,j] = count of i -> j edges\n",
    "mix_matrix = nx.attribute_mixing_matrix(G, \n",
    "                                        attribute='leaning',\n",
    "                                        mapping={'L': 0, 'C': 1, 'R': 2},\n",
    "                                        normalized=False)\n",
    "\n",
    "# normalize so rows sum to 1; choosing rows so that each cell can\n",
    "# be interpreted as the frequency with which category i recommends a video\n",
    "# in category j (row sums are the out-degree)\n",
    "mix_matrix = mix_matrix / mix_matrix.sum(axis=1, keepdims=True)"
   ]
  },
  {
   "cell_type": "code",
   "execution_count": 13,
   "metadata": {},
   "outputs": [
    {
     "data": {
      "image/png": "[encoded data removed]",
      "text/plain": [
       "<matplotlib.figure.Figure at 0x15194457f0>"
      ]
     },
     "metadata": {},
     "output_type": "display_data"
    }
   ],
   "source": [
    "plt.figure(figsize=(7,7))\n",
    "plt.imshow(mix_matrix)\n",
    "plt.colorbar(shrink=0.8)\n",
    "plt.xticks(np.arange(3), ('Left', 'Center', 'Right'))\n",
    "plt.yticks(np.arange(3), ('Left', 'Center', 'Right'))\n",
    "plt.show()\n",
    "#plt.savefig('presentation_resources/leaning_mixing_matrix', dpi=300)"
   ]
  }
 ],
 "metadata": {
  "kernelspec": {
   "display_name": "Python 3",
   "language": "python",
   "name": "python3"
  },
  "language_info": {
   "codemirror_mode": {
    "name": "ipython",
    "version": 3
   },
   "file_extension": ".py",
   "mimetype": "text/x-python",
   "name": "python",
   "nbconvert_exporter": "python",
   "pygments_lexer": "ipython3",
   "version": "3.6.4"
  }
 },
 "nbformat": 4,
 "nbformat_minor": 2
}
