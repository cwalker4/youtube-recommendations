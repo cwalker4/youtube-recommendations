{
 "cells": [
  {
   "cell_type": "markdown",
   "metadata": {},
   "source": [
    "# Video Graph Analysis\n",
    "\n",
    "This notebook analyzes the recommendation graph. Emphasis on assortativity."
   ]
  },
  {
   "cell_type": "code",
   "execution_count": null,
   "metadata": {},
   "outputs": [],
   "source": [
    "import os\n",
    "import pandas\n",
    "import json\n",
    "import numpy as np\n",
    "import pandas as pd\n",
    "\n",
    "import networkx as nx\n",
    "from matplotlib import pyplot as plt\n",
    "from collections import Counter"
   ]
  },
  {
   "cell_type": "markdown",
   "metadata": {},
   "source": [
    "### Data Import and Preparation"
   ]
  },
  {
   "cell_type": "code",
   "execution_count": null,
   "metadata": {},
   "outputs": [],
   "source": [
    "# import the graph from adjacency list\n",
    "G = nx.read_adjlist(create_using=nx.DiGraph(), \n",
    "                    path=\"../../data/derived_data/analysis_redo/video_adjacency.txt\")\n",
    "\n",
    "# import features df\n",
    "video_info = pd.read_csv('../../data/derived_data/analysis_redo/video_info.csv')\n",
    "\n",
    "# import channel leanings and merge into features\n",
    "channel_leanings = pd.read_csv('../../data/derived_data/analysis_redo/channel_classification.csv')\n",
    "video_info = video_info.merge(channel_leanings, on='channel', how='left')"
   ]
  },
  {
   "cell_type": "code",
   "execution_count": null,
   "metadata": {},
   "outputs": [],
   "source": [
    "# make a category_name <-> id mapping for easier category handling\n",
    "category_df = pd.read_csv('../../data/derived_data/category_crosswalk.csv')\n",
    "category_list = category_df.category_id.values\n",
    "\n",
    "categories = set(category_list)\n",
    "cat_mapping = {}\n",
    "for ix, category_id in enumerate(categories):\n",
    "    cat_mapping[category_id] = ix"
   ]
  },
  {
   "cell_type": "code",
   "execution_count": null,
   "metadata": {},
   "outputs": [],
   "source": [
    "# make a like ratio column\n",
    "def like_ratio(l, d):\n",
    "    try:\n",
    "        return int(l) / int(d)\n",
    "    except ZeroDivisionError:\n",
    "        return 0.5\n",
    "\n",
    "video_info['lr'] = video_info.apply(lambda x: like_ratio(x['likes'], x['dislikes']), axis=1)\n",
    "\n",
    "# Create node attributes by making dicts for each attribute of interest\n",
    "category = dict(zip(video_info.video_id, video_info.category))\n",
    "views = dict(zip(video_info.video_id, video_info.views))\n",
    "postdate = dict(zip(video_info.video_id, video_info.postdate))\n",
    "channel = dict(zip(video_info.video_id, video_info.channel))\n",
    "lr = dict(zip(video_info.video_id, video_info.lr))\n",
    "leaning = dict(zip(video_info.video_id, video_info.leaning))  # might have to drop NA leanings?"
   ]
  },
  {
   "cell_type": "code",
   "execution_count": null,
   "metadata": {},
   "outputs": [],
   "source": [
    "# set attributes in the graph\n",
    "nx.set_node_attributes(G, name='leaning', values=leaning)\n",
    "nx.set_node_attributes(G, name='category', values=category)\n",
    "nx.set_node_attributes(G, name='views', values=views)\n",
    "nx.set_node_attributes(G, name='like_ratio', values=lr)\n",
    "nx.set_node_attributes(G, name='postdate', values=postdate)\n",
    "nx.set_node_attributes(G, name='channel', values=channel)"
   ]
  },
  {
   "cell_type": "markdown",
   "metadata": {},
   "source": [
    "### Assortativity"
   ]
  },
  {
   "cell_type": "code",
   "execution_count": null,
   "metadata": {},
   "outputs": [],
   "source": [
    "# assortativity\n",
    "print(nx.attribute_assortativity_coefficient(G, 'category'))\n",
    "print(nx.attribute_assortativity_coefficient(G, 'channel'))\n",
    "print(nx.attribute_assortativity_coefficient(G, 'leaning'))\n",
    "#print(nx.numeric_assortativity_coefficient(G, attribute='views'))\n",
    "#print(nx.numeric_assortativity_coefficient(G, attribute='like_ratio'))"
   ]
  },
  {
   "cell_type": "code",
   "execution_count": null,
   "metadata": {},
   "outputs": [],
   "source": [
    "# mix_matrix[i,j] = count of i -> j edges\n",
    "mix_matrix = nx.attribute_mixing_matrix(G, \n",
    "                                        attribute='leaning',\n",
    "                                        mapping={'L': 0, 'C': 1, 'R': 2},\n",
    "                                        normalized=False)\n",
    "\n",
    "# normalize so rows sum to 1; choosing rows so that each cell can\n",
    "# be interpreted as the frequency with which category i recommends a video\n",
    "# in category j (row sums are the out-degree)\n",
    "mix_matrix = mix_matrix / mix_matrix.sum(axis=1, keepdims=True)"
   ]
  },
  {
   "cell_type": "code",
   "execution_count": null,
   "metadata": {},
   "outputs": [],
   "source": [
    "plt.figure(figsize=(7,7))\n",
    "plt.imshow(mix_matrix)\n",
    "plt.colorbar(shrink=0.8)\n",
    "plt.xticks(np.arange(3), ('Left', 'Center', 'Right'))\n",
    "plt.yticks(np.arange(3), ('Left', 'Center', 'Right'))\n",
    "plt.show()\n",
    "#plt.savefig('presentation_resources/leaning_mixing_matrix', dpi=300)"
   ]
  }
 ],
 "metadata": {
  "kernelspec": {
   "display_name": "Python 3",
   "language": "python",
   "name": "python3"
  },
  "language_info": {
   "codemirror_mode": {
    "name": "ipython",
    "version": 3
   },
   "file_extension": ".py",
   "mimetype": "text/x-python",
   "name": "python",
   "nbconvert_exporter": "python",
   "pygments_lexer": "ipython3",
   "version": "3.6.4"
  }
 },
 "nbformat": 4,
 "nbformat_minor": 2
}
